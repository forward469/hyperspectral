{
 "cells": [
  {
   "cell_type": "code",
   "execution_count": 1,
   "id": "norwegian-enhancement",
   "metadata": {},
   "outputs": [],
   "source": [
    "import spectral as spy\n",
    "import spectral.io.envi as envi\n",
    "\n",
    "import pandas as pd\n",
    "import numpy as np\n",
    "\n",
    "import matplotlib.pyplot as plt\n",
    "import cv2\n",
    "from ipywidgets import interact, interact_manual\n",
    "import PIL\n",
    "\n",
    "from tqdm.notebook import tqdm\n",
    "import os"
   ]
  },
  {
   "cell_type": "code",
   "execution_count": 2,
   "id": "elder-friendly",
   "metadata": {},
   "outputs": [],
   "source": [
    "DATA_PATH = \"../data/\"\n",
    "IMAGE_PATHS = sorted(filter(lambda x: x.startswith(\"urine_\"), os.listdir(DATA_PATH)))\n",
    "WAVELENGHTS = np.linspace(400, 1000, 204)\n",
    "\n",
    "_false_red_index = 90\n",
    "false_red = WAVELENGHTS[_false_red_index]\n",
    "_false_green_index = 48\n",
    "false_green = WAVELENGHTS[_false_green_index]\n",
    "_false_blue_index = 24\n",
    "false_blue = WAVELENGHTS[_false_blue_index]\n",
    "\n",
    "false_RGB_inds = (_false_red_index,\n",
    "                  _false_green_index,\n",
    "                  _false_blue_index)"
   ]
  },
  {
   "cell_type": "code",
   "execution_count": 3,
   "id": "jewish-fountain",
   "metadata": {},
   "outputs": [],
   "source": [
    "def read_spec_img(img_path: str):\n",
    "    spec_path = f\"{img_path}/capture/{img_path}.hdr\"\n",
    "    spec_img = envi.open(os.path.join(DATA_PATH, spec_path)).asarray()\n",
    "#     spec_img = (\n",
    "#         np.apply_along_axis(lambda x: (x - x.min()) / (x.max() - x.min()), 2, spec_img)\n",
    "#         * 255\n",
    "#     ).astype(int)\n",
    "    \n",
    "    rgb_path = f\"{img_path}/results/RGBBACKGROUND_{img_path}.png\"\n",
    "    rgb_img = cv2.imread(os.path.join(DATA_PATH, rgb_path))[:,:,::-1]\n",
    "    \n",
    "    \n",
    "    return {\n",
    "        \"name\": img_path,\n",
    "        \"spec_img\": spec_img,\n",
    "        \"rgb_img\": rgb_img\n",
    "    }\n",
    "\n",
    "\n",
    "def show_spec_img(img_dict):\n",
    "    spec_img = img_dict[\"spec_img\"]\n",
    "#     rgb_img = img_dict[\"rgb_img\"]\n",
    "    false_rgb_img = spec_img.mean(axis=2).T\n",
    "    \n",
    "    @interact\n",
    "    def show(x=(0, 511, 1), y=(0, 511, 1)):\n",
    "        fig, axes = plt.subplots(1,2,figsize=(24,8))\n",
    "        axes[0].set(xlabel=\"Wavelength, nm\", ylabel = \"Intensity\")\n",
    "        axes[0].plot(WAVELENGHTS, spec_img[x, y, :])\n",
    "        axes[1].imshow(false_rgb_img)\n",
    "        axes[1].scatter(x,y,s=40,c='red')"
   ]
  },
  {
   "cell_type": "code",
   "execution_count": 4,
   "id": "absolute-cornwall",
   "metadata": {},
   "outputs": [
    {
     "data": {
      "application/vnd.jupyter.widget-view+json": {
       "model_id": "615b388ca82941bcad84c3e5fd7ea674",
       "version_major": 2,
       "version_minor": 0
      },
      "text/plain": [
       "  0%|          | 0/6 [00:00<?, ?it/s]"
      ]
     },
     "metadata": {},
     "output_type": "display_data"
    }
   ],
   "source": [
    "IMAGES = [read_spec_img(img_path) for img_path in tqdm(IMAGE_PATHS)]"
   ]
  },
  {
   "cell_type": "code",
   "execution_count": 5,
   "id": "dress-twenty",
   "metadata": {},
   "outputs": [
    {
     "name": "stdout",
     "output_type": "stream",
     "text": [
      "Name :urine_scat_011\n"
     ]
    },
    {
     "data": {
      "application/vnd.jupyter.widget-view+json": {
       "model_id": "573aba67188246118a81cb39a29da392",
       "version_major": 2,
       "version_minor": 0
      },
      "text/plain": [
       "interactive(children=(IntSlider(value=255, description='x', max=511), IntSlider(value=255, description='y', ma…"
      ]
     },
     "metadata": {},
     "output_type": "display_data"
    }
   ],
   "source": [
    "IMG = IMAGES[2]\n",
    "print(\"Name :\" + IMG[\"name\"])\n",
    "show_spec_img(IMG)"
   ]
  },
  {
   "cell_type": "code",
   "execution_count": 1,
   "id": "honey-plymouth",
   "metadata": {},
   "outputs": [],
   "source": [
    "def draw_circle(event,x,y,flags,param):\n",
    "    global mouseX,mouseY\n",
    "    if event == cv2.EVENT_LBUTTONDBLCLK:\n",
    "        cv2.circle(img,(x,y),100,(255,0,0),-1)\n",
    "        mouseX,mouseY = x,y\n"
   ]
  },
  {
   "cell_type": "code",
   "execution_count": 14,
   "id": "eleven-export",
   "metadata": {},
   "outputs": [],
   "source": [
    "img = np.zeros((512,512,3), np.uint8)\n",
    "\n",
    "def on_click(event, x, y, p1, p2):\n",
    "    if event == cv2.EVENT_LBUTTONDOWN:\n",
    "        cv2.circle(lastImage, (x, y), 3, (255, 0, 0), -1)\n",
    "\n",
    "if __name__ == \"__main__\":\n",
    "    cv2.imshow(\"image\", img)\n",
    "    cv2.namedWindow('image')\n",
    "    cv2.setMouseCallback('image', on_click)\n"
   ]
  },
  {
   "cell_type": "code",
   "execution_count": 10,
   "id": "activated-bangladesh",
   "metadata": {},
   "outputs": [
    {
     "ename": "KeyboardInterrupt",
     "evalue": "",
     "output_type": "error",
     "traceback": [
      "\u001b[0;31m---------------------------------------------------------------------------\u001b[0m",
      "\u001b[0;31mKeyboardInterrupt\u001b[0m                         Traceback (most recent call last)",
      "\u001b[0;32m<ipython-input-10-d5ed331932ac>\u001b[0m in \u001b[0;36m<module>\u001b[0;34m\u001b[0m\n\u001b[1;32m      2\u001b[0m \u001b[0;32mwhile\u001b[0m\u001b[0;34m(\u001b[0m\u001b[0;36m1\u001b[0m\u001b[0;34m)\u001b[0m\u001b[0;34m:\u001b[0m\u001b[0;34m\u001b[0m\u001b[0;34m\u001b[0m\u001b[0m\n\u001b[1;32m      3\u001b[0m     \u001b[0mcv2\u001b[0m\u001b[0;34m.\u001b[0m\u001b[0mimshow\u001b[0m\u001b[0;34m(\u001b[0m\u001b[0;34m'image'\u001b[0m\u001b[0;34m,\u001b[0m\u001b[0mimg\u001b[0m\u001b[0;34m)\u001b[0m\u001b[0;34m\u001b[0m\u001b[0;34m\u001b[0m\u001b[0m\n\u001b[0;32m----> 4\u001b[0;31m     \u001b[0mk\u001b[0m \u001b[0;34m=\u001b[0m \u001b[0mcv2\u001b[0m\u001b[0;34m.\u001b[0m\u001b[0mwaitKey\u001b[0m\u001b[0;34m(\u001b[0m\u001b[0;36m20\u001b[0m\u001b[0;34m)\u001b[0m \u001b[0;34m&\u001b[0m \u001b[0;36m0xFF\u001b[0m\u001b[0;34m\u001b[0m\u001b[0;34m\u001b[0m\u001b[0m\n\u001b[0m\u001b[1;32m      5\u001b[0m     \u001b[0;32mif\u001b[0m \u001b[0mk\u001b[0m \u001b[0;34m==\u001b[0m \u001b[0;36m27\u001b[0m\u001b[0;34m:\u001b[0m\u001b[0;34m\u001b[0m\u001b[0;34m\u001b[0m\u001b[0m\n\u001b[1;32m      6\u001b[0m         \u001b[0;32mbreak\u001b[0m\u001b[0;34m\u001b[0m\u001b[0;34m\u001b[0m\u001b[0m\n",
      "\u001b[0;31mKeyboardInterrupt\u001b[0m: "
     ]
    },
    {
     "data": {
      "image/png": "[encoded data removed]",
      "text/plain": [
       "<Figure size 1728x576 with 1 Axes>"
      ]
     },
     "metadata": {
      "needs_background": "light"
     },
     "output_type": "display_data"
    }
   ],
   "source": [
    "fig, axes = plt.subplots(1,1,figsize=(24,8))\n",
    "while(1):\n",
    "    cv2.imshow('image',img)\n",
    "    k = cv2.waitKey(20) & 0xFF\n",
    "    if k == 27:\n",
    "        break\n",
    "    elif k == ord('a'):\n",
    "        print(mouseX,mouseY)"
   ]
  },
  {
   "cell_type": "markdown",
   "id": "blessed-white",
   "metadata": {},
   "source": [
    "## "
   ]
  },
  {
   "cell_type": "code",
   "execution_count": 6,
   "id": "addressed-lobby",
   "metadata": {},
   "outputs": [
    {
     "name": "stdout",
     "output_type": "stream",
     "text": [
      "[[320, 134], [204, 107], [240, 209]]\n",
      "[[378, 211], [105, 179], [283, 77]]\n"
     ]
    }
   ],
   "source": [
    "\n",
    "class MousePts:\n",
    "    def __init__(self,windowname,img):\n",
    "        self.windowname = windowname\n",
    "        self.img1 = img.copy()\n",
    "        self.img = self.img1.copy()\n",
    "        cv2.namedWindow(windowname,cv2.WINDOW_NORMAL)\n",
    "        cv2.imshow(windowname,img)\n",
    "        self.curr_pt = []\n",
    "        self.point   = []\n",
    "\n",
    "    def select_point(self,event,x,y,flags,param):\n",
    "        if event == cv2.EVENT_LBUTTONDOWN:\n",
    "            self.point.append([x,y])\n",
    "            #print(self.point)\n",
    "            cv2.circle(self.img,(x,y),5,(0,255,0),-1)\n",
    "        elif event == cv2.EVENT_MOUSEMOVE:\n",
    "            self.curr_pt = [x,y]\n",
    "            #print(self.point)\n",
    "\n",
    "    def getpt(self,count=1,img=None):\n",
    "        if img is not None:\n",
    "            self.img = img\n",
    "        else:\n",
    "            self.img = self.img1.copy()\n",
    "        cv2.namedWindow(self.windowname,cv2.WINDOW_NORMAL)\n",
    "        cv2.imshow(self.windowname,self.img)\n",
    "        cv2.setMouseCallback(self.windowname,self.select_point)\n",
    "        self.point = []\n",
    "        while(1):\n",
    "            cv2.imshow(self.windowname,self.img)\n",
    "            k = cv2.waitKey(20) & 0xFF\n",
    "            if k == 27 or len(self.point)>=count:\n",
    "                break\n",
    "            #print(self.point)\n",
    "        cv2.setMouseCallback(self.windowname, lambda *args : None)\n",
    "        #cv2.destroyAllWindows()\n",
    "        return self.point, self.img\n",
    "\n",
    "if __name__=='__main__':\n",
    "    img = IMAGES[2][\"spec_img\"].mean(axis=2) # np.zeros((512,512,3), np.uint8)\n",
    "    windowname = 'image'\n",
    "    coordinateStore = MousePts(windowname,img)\n",
    "\n",
    "    pts,img = coordinateStore.getpt(3)\n",
    "    print(pts)\n",
    "\n",
    "    pts,img = coordinateStore.getpt(3,img)\n",
    "    print(pts)\n",
    "\n",
    "    cv2.imshow(windowname,img)\n",
    "    cv2.waitKey(0)"
   ]
  },
  {
   "cell_type": "code",
   "execution_count": 8,
   "id": "impaired-independence",
   "metadata": {},
   "outputs": [],
   "source": [
    "img = IMAGES[2][\"spec_img\"].mean(axis=2)"
   ]
  },
  {
   "cell_type": "code",
   "execution_count": 10,
   "id": "alert-validity",
   "metadata": {},
   "outputs": [
    {
     "data": {
      "text/plain": [
       "(512, 512)"
      ]
     },
     "execution_count": 10,
     "metadata": {},
     "output_type": "execute_result"
    }
   ],
   "source": [
    "img.shape"
   ]
  },
  {
   "cell_type": "code",
   "execution_count": null,
   "id": "perceived-seminar",
   "metadata": {},
   "outputs": [],
   "source": []
  }
 ],
 "metadata": {
  "kernelspec": {
   "display_name": "Python 3",
   "language": "python",
   "name": "python3"
  },
  "language_info": {
   "codemirror_mode": {
    "name": "ipython",
    "version": 3
   },
   "file_extension": ".py",
   "mimetype": "text/x-python",
   "name": "python",
   "nbconvert_exporter": "python",
   "pygments_lexer": "ipython3",
   "version": "3.8.5"
  }
 },
 "nbformat": 4,
 "nbformat_minor": 5
}
